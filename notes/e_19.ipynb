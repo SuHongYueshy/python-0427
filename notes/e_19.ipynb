{
  "nbformat": 4,
  "nbformat_minor": 0,
  "metadata": {
    "colab": {
      "name": "e_19.ipynb",
      "version": "0.3.2",
      "provenance": [],
      "include_colab_link": true
    },
    "kernelspec": {
      "name": "python3",
      "display_name": "Python 3"
    }
  },
  "cells": [
    {
      "cell_type": "markdown",
      "metadata": {
        "id": "view-in-github",
        "colab_type": "text"
      },
      "source": [
        "<a href=\"https://colab.research.google.com/github/thu/python-0426/blob/master/notes/e_19.ipynb\" target=\"_parent\"><img src=\"https://colab.research.google.com/assets/colab-badge.svg\" alt=\"Open In Colab\"/></a>"
      ]
    },
    {
      "metadata": {
        "id": "ZgzuzqWVydMp",
        "colab_type": "text"
      },
      "cell_type": "markdown",
      "source": [
        "### 打印出如下图案（菱形）\n",
        "\n",
        "```\n",
        "      x\n",
        "     xxx\n",
        "    xxxxx\n",
        "   xxxxxxx\n",
        "    xxxxx\n",
        "     xxx\n",
        "      x\n",
        "```\n",
        "> 要求只能使用：\n",
        "\n",
        "1. `print(' ', end='')`\n",
        "2. `print('x', end='')`\n",
        "3. `print('x')`\n"
      ]
    },
    {
      "metadata": {
        "id": "7BYzPtpSzNGP",
        "colab_type": "text"
      },
      "cell_type": "markdown",
      "source": [
        "## 基本思路\n",
        "\n",
        "1. 把菱形分解为上下两部分\n",
        "2. 分析每部分的规律\n",
        "3. 使用循环进行输出"
      ]
    },
    {
      "metadata": {
        "id": "nzj_2GlzziSw",
        "colab_type": "code",
        "colab": {
          "base_uri": "https://localhost:8080/",
          "height": 143
        },
        "outputId": "1c14d007-8436-44b5-fbb7-a5ee4ac739e8"
      },
      "cell_type": "code",
      "source": [
        "for i in range(1, 5):\n",
        "  for j in range(4-i, 0, -1):\n",
        "    print(' ', end='')\n",
        "  for k in range(0, (i-1)*2):\n",
        "    print('x', end='')\n",
        "  print('x')\n",
        "  \n",
        "for i in range(1,4):\n",
        "  for j in range (0, i):\n",
        "    print(' ', end='')\n",
        "  for k in range(4, (i-1)*2, -1):\n",
        "    print('x', end='')\n",
        "  print('x')"
      ],
      "execution_count": 22,
      "outputs": [
        {
          "output_type": "stream",
          "text": [
            "   x\n",
            "  xxx\n",
            " xxxxx\n",
            "xxxxxxx\n",
            " xxxxx\n",
            "  xxx\n",
            "   x\n"
          ],
          "name": "stdout"
        }
      ]
    },
    {
      "metadata": {
        "id": "xYHNEn2J64To",
        "colab_type": "code",
        "colab": {
          "base_uri": "https://localhost:8080/",
          "height": 1835
        },
        "outputId": "b5d7342f-749b-4c5e-dbfe-5c29f6b0adae"
      },
      "cell_type": "code",
      "source": [
        "n = int(input())\n",
        "print(n)\n",
        "for i in range(1, (n//2)+2):\n",
        "  for j in range((n//2+1)-i, 0, -1):\n",
        "    print(' ', end='')\n",
        "  for k in range(0, (i-1)*2):\n",
        "    print('x', end='')\n",
        "  print('x')\n",
        "  \n",
        "for i in range(1,(n//2 + 1)):\n",
        "  for j in range (0, i):\n",
        "    print(' ', end='')\n",
        "  for k in range((n-3), (i-1)*2, -1):\n",
        "    print('x', end='')\n",
        "  print('x')"
      ],
      "execution_count": 27,
      "outputs": [
        {
          "output_type": "stream",
          "text": [
            "99\n",
            "99\n",
            "                                                 x\n",
            "                                                xxx\n",
            "                                               xxxxx\n",
            "                                              xxxxxxx\n",
            "                                             xxxxxxxxx\n",
            "                                            xxxxxxxxxxx\n",
            "                                           xxxxxxxxxxxxx\n",
            "                                          xxxxxxxxxxxxxxx\n",
            "                                         xxxxxxxxxxxxxxxxx\n",
            "                                        xxxxxxxxxxxxxxxxxxx\n",
            "                                       xxxxxxxxxxxxxxxxxxxxx\n",
            "                                      xxxxxxxxxxxxxxxxxxxxxxx\n",
            "                                     xxxxxxxxxxxxxxxxxxxxxxxxx\n",
            "                                    xxxxxxxxxxxxxxxxxxxxxxxxxxx\n",
            "                                   xxxxxxxxxxxxxxxxxxxxxxxxxxxxx\n",
            "                                  xxxxxxxxxxxxxxxxxxxxxxxxxxxxxxx\n",
            "                                 xxxxxxxxxxxxxxxxxxxxxxxxxxxxxxxxx\n",
            "                                xxxxxxxxxxxxxxxxxxxxxxxxxxxxxxxxxxx\n",
            "                               xxxxxxxxxxxxxxxxxxxxxxxxxxxxxxxxxxxxx\n",
            "                              xxxxxxxxxxxxxxxxxxxxxxxxxxxxxxxxxxxxxxx\n",
            "                             xxxxxxxxxxxxxxxxxxxxxxxxxxxxxxxxxxxxxxxxx\n",
            "                            xxxxxxxxxxxxxxxxxxxxxxxxxxxxxxxxxxxxxxxxxxx\n",
            "                           xxxxxxxxxxxxxxxxxxxxxxxxxxxxxxxxxxxxxxxxxxxxx\n",
            "                          xxxxxxxxxxxxxxxxxxxxxxxxxxxxxxxxxxxxxxxxxxxxxxx\n",
            "                         xxxxxxxxxxxxxxxxxxxxxxxxxxxxxxxxxxxxxxxxxxxxxxxxx\n",
            "                        xxxxxxxxxxxxxxxxxxxxxxxxxxxxxxxxxxxxxxxxxxxxxxxxxxx\n",
            "                       xxxxxxxxxxxxxxxxxxxxxxxxxxxxxxxxxxxxxxxxxxxxxxxxxxxxx\n",
            "                      xxxxxxxxxxxxxxxxxxxxxxxxxxxxxxxxxxxxxxxxxxxxxxxxxxxxxxx\n",
            "                     xxxxxxxxxxxxxxxxxxxxxxxxxxxxxxxxxxxxxxxxxxxxxxxxxxxxxxxxx\n",
            "                    xxxxxxxxxxxxxxxxxxxxxxxxxxxxxxxxxxxxxxxxxxxxxxxxxxxxxxxxxxx\n",
            "                   xxxxxxxxxxxxxxxxxxxxxxxxxxxxxxxxxxxxxxxxxxxxxxxxxxxxxxxxxxxxx\n",
            "                  xxxxxxxxxxxxxxxxxxxxxxxxxxxxxxxxxxxxxxxxxxxxxxxxxxxxxxxxxxxxxxx\n",
            "                 xxxxxxxxxxxxxxxxxxxxxxxxxxxxxxxxxxxxxxxxxxxxxxxxxxxxxxxxxxxxxxxxx\n",
            "                xxxxxxxxxxxxxxxxxxxxxxxxxxxxxxxxxxxxxxxxxxxxxxxxxxxxxxxxxxxxxxxxxxx\n",
            "               xxxxxxxxxxxxxxxxxxxxxxxxxxxxxxxxxxxxxxxxxxxxxxxxxxxxxxxxxxxxxxxxxxxxx\n",
            "              xxxxxxxxxxxxxxxxxxxxxxxxxxxxxxxxxxxxxxxxxxxxxxxxxxxxxxxxxxxxxxxxxxxxxxx\n",
            "             xxxxxxxxxxxxxxxxxxxxxxxxxxxxxxxxxxxxxxxxxxxxxxxxxxxxxxxxxxxxxxxxxxxxxxxxx\n",
            "            xxxxxxxxxxxxxxxxxxxxxxxxxxxxxxxxxxxxxxxxxxxxxxxxxxxxxxxxxxxxxxxxxxxxxxxxxxx\n",
            "           xxxxxxxxxxxxxxxxxxxxxxxxxxxxxxxxxxxxxxxxxxxxxxxxxxxxxxxxxxxxxxxxxxxxxxxxxxxxx\n",
            "          xxxxxxxxxxxxxxxxxxxxxxxxxxxxxxxxxxxxxxxxxxxxxxxxxxxxxxxxxxxxxxxxxxxxxxxxxxxxxxx\n",
            "         xxxxxxxxxxxxxxxxxxxxxxxxxxxxxxxxxxxxxxxxxxxxxxxxxxxxxxxxxxxxxxxxxxxxxxxxxxxxxxxxx\n",
            "        xxxxxxxxxxxxxxxxxxxxxxxxxxxxxxxxxxxxxxxxxxxxxxxxxxxxxxxxxxxxxxxxxxxxxxxxxxxxxxxxxxx\n",
            "       xxxxxxxxxxxxxxxxxxxxxxxxxxxxxxxxxxxxxxxxxxxxxxxxxxxxxxxxxxxxxxxxxxxxxxxxxxxxxxxxxxxxx\n",
            "      xxxxxxxxxxxxxxxxxxxxxxxxxxxxxxxxxxxxxxxxxxxxxxxxxxxxxxxxxxxxxxxxxxxxxxxxxxxxxxxxxxxxxxx\n",
            "     xxxxxxxxxxxxxxxxxxxxxxxxxxxxxxxxxxxxxxxxxxxxxxxxxxxxxxxxxxxxxxxxxxxxxxxxxxxxxxxxxxxxxxxxx\n",
            "    xxxxxxxxxxxxxxxxxxxxxxxxxxxxxxxxxxxxxxxxxxxxxxxxxxxxxxxxxxxxxxxxxxxxxxxxxxxxxxxxxxxxxxxxxxx\n",
            "   xxxxxxxxxxxxxxxxxxxxxxxxxxxxxxxxxxxxxxxxxxxxxxxxxxxxxxxxxxxxxxxxxxxxxxxxxxxxxxxxxxxxxxxxxxxxx\n",
            "  xxxxxxxxxxxxxxxxxxxxxxxxxxxxxxxxxxxxxxxxxxxxxxxxxxxxxxxxxxxxxxxxxxxxxxxxxxxxxxxxxxxxxxxxxxxxxxx\n",
            " xxxxxxxxxxxxxxxxxxxxxxxxxxxxxxxxxxxxxxxxxxxxxxxxxxxxxxxxxxxxxxxxxxxxxxxxxxxxxxxxxxxxxxxxxxxxxxxxx\n",
            "xxxxxxxxxxxxxxxxxxxxxxxxxxxxxxxxxxxxxxxxxxxxxxxxxxxxxxxxxxxxxxxxxxxxxxxxxxxxxxxxxxxxxxxxxxxxxxxxxxx\n",
            " xxxxxxxxxxxxxxxxxxxxxxxxxxxxxxxxxxxxxxxxxxxxxxxxxxxxxxxxxxxxxxxxxxxxxxxxxxxxxxxxxxxxxxxxxxxxxxxxx\n",
            "  xxxxxxxxxxxxxxxxxxxxxxxxxxxxxxxxxxxxxxxxxxxxxxxxxxxxxxxxxxxxxxxxxxxxxxxxxxxxxxxxxxxxxxxxxxxxxxx\n",
            "   xxxxxxxxxxxxxxxxxxxxxxxxxxxxxxxxxxxxxxxxxxxxxxxxxxxxxxxxxxxxxxxxxxxxxxxxxxxxxxxxxxxxxxxxxxxxx\n",
            "    xxxxxxxxxxxxxxxxxxxxxxxxxxxxxxxxxxxxxxxxxxxxxxxxxxxxxxxxxxxxxxxxxxxxxxxxxxxxxxxxxxxxxxxxxxx\n",
            "     xxxxxxxxxxxxxxxxxxxxxxxxxxxxxxxxxxxxxxxxxxxxxxxxxxxxxxxxxxxxxxxxxxxxxxxxxxxxxxxxxxxxxxxxx\n",
            "      xxxxxxxxxxxxxxxxxxxxxxxxxxxxxxxxxxxxxxxxxxxxxxxxxxxxxxxxxxxxxxxxxxxxxxxxxxxxxxxxxxxxxxx\n",
            "       xxxxxxxxxxxxxxxxxxxxxxxxxxxxxxxxxxxxxxxxxxxxxxxxxxxxxxxxxxxxxxxxxxxxxxxxxxxxxxxxxxxxx\n",
            "        xxxxxxxxxxxxxxxxxxxxxxxxxxxxxxxxxxxxxxxxxxxxxxxxxxxxxxxxxxxxxxxxxxxxxxxxxxxxxxxxxxx\n",
            "         xxxxxxxxxxxxxxxxxxxxxxxxxxxxxxxxxxxxxxxxxxxxxxxxxxxxxxxxxxxxxxxxxxxxxxxxxxxxxxxxx\n",
            "          xxxxxxxxxxxxxxxxxxxxxxxxxxxxxxxxxxxxxxxxxxxxxxxxxxxxxxxxxxxxxxxxxxxxxxxxxxxxxxx\n",
            "           xxxxxxxxxxxxxxxxxxxxxxxxxxxxxxxxxxxxxxxxxxxxxxxxxxxxxxxxxxxxxxxxxxxxxxxxxxxxx\n",
            "            xxxxxxxxxxxxxxxxxxxxxxxxxxxxxxxxxxxxxxxxxxxxxxxxxxxxxxxxxxxxxxxxxxxxxxxxxxx\n",
            "             xxxxxxxxxxxxxxxxxxxxxxxxxxxxxxxxxxxxxxxxxxxxxxxxxxxxxxxxxxxxxxxxxxxxxxxxx\n",
            "              xxxxxxxxxxxxxxxxxxxxxxxxxxxxxxxxxxxxxxxxxxxxxxxxxxxxxxxxxxxxxxxxxxxxxxx\n",
            "               xxxxxxxxxxxxxxxxxxxxxxxxxxxxxxxxxxxxxxxxxxxxxxxxxxxxxxxxxxxxxxxxxxxxx\n",
            "                xxxxxxxxxxxxxxxxxxxxxxxxxxxxxxxxxxxxxxxxxxxxxxxxxxxxxxxxxxxxxxxxxxx\n",
            "                 xxxxxxxxxxxxxxxxxxxxxxxxxxxxxxxxxxxxxxxxxxxxxxxxxxxxxxxxxxxxxxxxx\n",
            "                  xxxxxxxxxxxxxxxxxxxxxxxxxxxxxxxxxxxxxxxxxxxxxxxxxxxxxxxxxxxxxxx\n",
            "                   xxxxxxxxxxxxxxxxxxxxxxxxxxxxxxxxxxxxxxxxxxxxxxxxxxxxxxxxxxxxx\n",
            "                    xxxxxxxxxxxxxxxxxxxxxxxxxxxxxxxxxxxxxxxxxxxxxxxxxxxxxxxxxxx\n",
            "                     xxxxxxxxxxxxxxxxxxxxxxxxxxxxxxxxxxxxxxxxxxxxxxxxxxxxxxxxx\n",
            "                      xxxxxxxxxxxxxxxxxxxxxxxxxxxxxxxxxxxxxxxxxxxxxxxxxxxxxxx\n",
            "                       xxxxxxxxxxxxxxxxxxxxxxxxxxxxxxxxxxxxxxxxxxxxxxxxxxxxx\n",
            "                        xxxxxxxxxxxxxxxxxxxxxxxxxxxxxxxxxxxxxxxxxxxxxxxxxxx\n",
            "                         xxxxxxxxxxxxxxxxxxxxxxxxxxxxxxxxxxxxxxxxxxxxxxxxx\n",
            "                          xxxxxxxxxxxxxxxxxxxxxxxxxxxxxxxxxxxxxxxxxxxxxxx\n",
            "                           xxxxxxxxxxxxxxxxxxxxxxxxxxxxxxxxxxxxxxxxxxxxx\n",
            "                            xxxxxxxxxxxxxxxxxxxxxxxxxxxxxxxxxxxxxxxxxxx\n",
            "                             xxxxxxxxxxxxxxxxxxxxxxxxxxxxxxxxxxxxxxxxx\n",
            "                              xxxxxxxxxxxxxxxxxxxxxxxxxxxxxxxxxxxxxxx\n",
            "                               xxxxxxxxxxxxxxxxxxxxxxxxxxxxxxxxxxxxx\n",
            "                                xxxxxxxxxxxxxxxxxxxxxxxxxxxxxxxxxxx\n",
            "                                 xxxxxxxxxxxxxxxxxxxxxxxxxxxxxxxxx\n",
            "                                  xxxxxxxxxxxxxxxxxxxxxxxxxxxxxxx\n",
            "                                   xxxxxxxxxxxxxxxxxxxxxxxxxxxxx\n",
            "                                    xxxxxxxxxxxxxxxxxxxxxxxxxxx\n",
            "                                     xxxxxxxxxxxxxxxxxxxxxxxxx\n",
            "                                      xxxxxxxxxxxxxxxxxxxxxxx\n",
            "                                       xxxxxxxxxxxxxxxxxxxxx\n",
            "                                        xxxxxxxxxxxxxxxxxxx\n",
            "                                         xxxxxxxxxxxxxxxxx\n",
            "                                          xxxxxxxxxxxxxxx\n",
            "                                           xxxxxxxxxxxxx\n",
            "                                            xxxxxxxxxxx\n",
            "                                             xxxxxxxxx\n",
            "                                              xxxxxxx\n",
            "                                               xxxxx\n",
            "                                                xxx\n",
            "                                                 x\n"
          ],
          "name": "stdout"
        }
      ]
    }
  ]
}