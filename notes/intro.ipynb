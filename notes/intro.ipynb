{
  "cells": [
    {
      "cell_type": "markdown",
      "metadata": {
        "pycharm": {}
      },
      "source": [
        "## Jupyter Notebook Intro"
      ]
    },
    {
      "cell_type": "markdown",
      "metadata": {
        "pycharm": {}
      },
      "source": [
        "#### 启动\n",
        "\n",
        "1. PyCharm `Alt+F12` Terminal\n",
        "2. jupyter notebook + Enter\n",
        "3. Chrome: [localhost:8888/tree](localhost:8888/tree)\n",
        "4. New | Python 3\n",
        "5. Untitled Rename File"
      ]
    },
    {
      "cell_type": "code",
      "execution_count": 1,
      "metadata": {
        "pycharm": {
          "is_executing": false
        }
      },
      "outputs": [
        {
          "name": "stdout",
          "text": [
            "Hello, Jupyter notebook!\n"
          ],
          "output_type": "stream"
        }
      ],
      "source": [
        "print(\u0027Hello, Jupyter notebook!\u0027)"
      ]
    },
    {
      "cell_type": "markdown",
      "metadata": {
        "pycharm": {}
      },
      "source": [
        "#### 模式\n",
        "1. 编辑模式 `Enter`\n",
        "2. 命令模式 `ESC`\n"
      ]
    },
    {
      "cell_type": "markdown",
      "metadata": {
        "pycharm": {}
      },
      "source": [
        "#### 快捷键\n",
        "\n",
        "`ESC + H`"
      ]
    },
    {
      "cell_type": "code",
      "execution_count": 3,
      "metadata": {
        "pycharm": {}
      },
      "outputs": [
        {
          "name": "stdout",
          "output_type": "stream",
          "text": [
            "Ctrl + Enter\n"
          ]
        }
      ],
      "source": [
        "print(\u0027Ctrl + Enter\u0027)"
      ]
    },
    {
      "cell_type": "markdown",
      "metadata": {
        "pycharm": {}
      },
      "source": [
        "#### 图形\n",
        "1. `activate python-0426`\n",
        "2. `conda install matplotlib`\n",
        "3. `conda install numpy`"
      ]
    },
    {
      "cell_type": "code",
      "execution_count": 2,
      "metadata": {
        "pycharm": {}
      },
      "outputs": [
        {
          "data": {
            "image/png": "[encoded data removed]",
            "text/plain": [
              "\u003cFigure size 432x288 with 1 Axes\u003e"
            ]
          },
          "metadata": {
            "needs_background": "light"
          },
          "output_type": "display_data"
        }
      ],
      "source": "import matplotlib.pyplot as plt\nplt.plot([1, 2, 3, 4])\nplt.ylabel(\u0027some numbers\u0027)\nplt.show()\n"
    },
    {
      "cell_type": "code",
      "source": "#### Google Colab\n[https://colab.research.google.com](https://colab.research.google.com)\n",
      "metadata": {
        "pycharm": {
          "metadata": false,
          "name": "#%% \n"
        }
      },
      "execution_count": null,
      "outputs": []
    }
  ],
  "metadata": {
    "kernelspec": {
      "display_name": "Python 3",
      "language": "python",
      "name": "python3"
    },
    "language_info": {
      "codemirror_mode": {
        "name": "ipython",
        "version": 3
      },
      "file_extension": ".py",
      "mimetype": "text/x-python",
      "name": "python",
      "nbconvert_exporter": "python",
      "pygments_lexer": "ipython3",
      "version": "3.7.3"
    }
  },
  "nbformat": 4,
  "nbformat_minor": 2
}